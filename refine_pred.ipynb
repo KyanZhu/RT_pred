{
 "cells": [
  {
   "cell_type": "code",
   "execution_count": null,
   "metadata": {},
   "outputs": [],
   "source": [
    "import pandas as pd\n",
    "import numpy as np\n",
    "import pickle\n",
    "from keras.models import load_model\n",
    "from utils import S2FPS, S2DES, S2MAC"
   ]
  },
  {
   "cell_type": "code",
   "execution_count": null,
   "metadata": {},
   "outputs": [],
   "source": [
    "test_file = 'test.csv'\n",
    "model_file = 'rt_prediction_model.h5'\n",
    "lab_file = 'label_encoder.pkl'\n",
    "scale_file = 'scaler.pkl'\n",
    "output_file = 'output1.csv'"
   ]
  },
  {
   "cell_type": "code",
   "execution_count": null,
   "metadata": {},
   "outputs": [],
   "source": [
    "# Read data\n",
    "data = pd.read_csv(test_file)\n",
    "\n",
    "# S2 Features\n",
    "X_fps = np.array([S2FPS(s) for s in data['SMILES']])\n",
    "X_des = np.array([S2DES(s) for s in data['SMILES']])\n",
    "X_mac = np.array([S2MAC(s) for s in data['SMILES']])\n",
    "\n",
    "# Load LabelEncoder\n",
    "with open(lab_file, 'rb') as f:\n",
    "    le = pickle.load(f)\n",
    "\n",
    "# Lab Encoder\n",
    "lab_encoded = le.transform(data['Lab'])\n",
    "num_labs = len(le.classes_)\n",
    "X_lab = np.eye(num_labs)[lab_encoded]\n",
    "\n",
    "# Load model\n",
    "model = load_model(model_file)\n",
    "\n",
    "# Load StandardScaler\n",
    "with open(scale_file, 'rb') as f:\n",
    "    scaler = pickle.load(f)\n",
    "\n",
    "# Prediction\n",
    "y_pred_scaled = model.predict([X_fps, X_des, X_mac, X_lab])\n",
    "y_pred = scaler.inverse_transform(y_pred_scaled)\n",
    "data['RT'] = y_pred\n",
    "\n",
    "# Data output\n",
    "data.to_csv(output_file, index=False)"
   ]
  }
 ],
 "metadata": {
  "kernelspec": {
   "display_name": "Python 3",
   "language": "python",
   "name": "python3"
  },
  "language_info": {
   "codemirror_mode": {
    "name": "ipython",
    "version": 3
   },
   "file_extension": ".py",
   "mimetype": "text/x-python",
   "name": "python",
   "nbconvert_exporter": "python",
   "pygments_lexer": "ipython3",
   "version": "3.10.5"
  }
 },
 "nbformat": 4,
 "nbformat_minor": 2
}
